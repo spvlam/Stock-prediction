{
  "nbformat": 4,
  "nbformat_minor": 0,
  "metadata": {
    "colab": {
      "provenance": []
    },
    "kernelspec": {
      "name": "python3",
      "display_name": "Python 3"
    },
    "language_info": {
      "name": "python"
    }
  },
  "cells": [
    {
      "cell_type": "markdown",
      "source": [],
      "metadata": {
        "id": "smeSRqeQaU2Z"
      }
    },
    {
      "cell_type": "code",
      "source": [
        "from google.colab import drive\n",
        "drive.mount('/content/drive')"
      ],
      "metadata": {
        "colab": {
          "base_uri": "https://localhost:8080/"
        },
        "id": "zJWxFv0UkybQ",
        "outputId": "2b837583-8e9c-495d-83d9-d06e49862e72"
      },
      "execution_count": null,
      "outputs": [
        {
          "output_type": "stream",
          "name": "stdout",
          "text": [
            "Drive already mounted at /content/drive; to attempt to forcibly remount, call drive.mount(\"/content/drive\", force_remount=True).\n"
          ]
        }
      ]
    },
    {
      "cell_type": "markdown",
      "source": [
        "\n",
        "\n",
        "# 1. 1: Import necesary library\n",
        "\n",
        "\n"
      ],
      "metadata": {
        "id": "ZRPXwWjAyd_D"
      }
    },
    {
      "cell_type": "code",
      "execution_count": 4,
      "metadata": {
        "id": "HoWjNks7Hur-"
      },
      "outputs": [],
      "source": [
        "# import necessary library\n",
        "import pandas as pd # pandas for reading csv file\n",
        "from sklearn.preprocessing import MinMaxScaler #standadlize data in (a,b) form\n",
        "import numpy as np #hadnling data\n",
        "from keras.models import Sequential #create the sequential neural network\n",
        "from keras.layers import Dense, Dropout, LSTM #the model that we use\n",
        "from keras.optimizers import Adam # for optimization purpose\n",
        "from keras.metrics import Accuracy # to evaluate the accuracy of lstm model\n",
        "import matplotlib.pyplot as plt # for plotting data into graph form\n"
      ]
    },
    {
      "cell_type": "markdown",
      "source": [
        "\n",
        "\n",
        "# 2.Data handling\n",
        "\n",
        "\n",
        "\n",
        "\n",
        "\n"
      ],
      "metadata": {
        "id": "P23A9o1p1mv3"
      }
    },
    {
      "cell_type": "markdown",
      "source": [
        "\n",
        "## a) Get raw data\n",
        "\n",
        "\n",
        "\n",
        "\n",
        "\n",
        "\n",
        "\n",
        "\n",
        "\n",
        "\n",
        "\n"
      ],
      "metadata": {
        "id": "fyGG6-BrwHMN"
      }
    },
    {
      "cell_type": "code",
      "source": [
        "df = pd.read_csv(\"drive/MyDrive/HistoricalData_meta.csv\")\n",
        "print(df.head()) # print raw data form"
      ],
      "metadata": {
        "colab": {
          "base_uri": "https://localhost:8080/"
        },
        "id": "QKiPEyrLbD1n",
        "outputId": "d3dd7797-b4ca-45a5-e88d-1a468d4f833d"
      },
      "execution_count": 5,
      "outputs": [
        {
          "output_type": "stream",
          "name": "stdout",
          "text": [
            "        Date   Close    Volume    Open    High     Low\n",
            "0  6/30/2023  286.98  19694870  284.76  289.05  284.42\n",
            "1  6/29/2023  281.53  15395690  284.50  286.57  280.69\n",
            "2  6/28/2023  285.29  16722120  284.82  289.55  284.06\n",
            "3  6/27/2023  287.05  26108260  282.01  289.35  280.66\n",
            "4  6/26/2023  278.47  24232650  288.70  289.79  277.60\n"
          ]
        }
      ]
    },
    {
      "cell_type": "markdown",
      "source": [
        "Handling data in correct form"
      ],
      "metadata": {
        "id": "5SNAD9MAdc1W"
      }
    },
    {
      "cell_type": "markdown",
      "source": [
        "## b) Handle \"close\" column"
      ],
      "metadata": {
        "id": "WibHqiOt0tIH"
      }
    },
    {
      "cell_type": "markdown",
      "source": [
        "### Calculate the simple moving averagement (SMA)"
      ],
      "metadata": {
        "id": "RIJlh0c-1ftS"
      }
    },
    {
      "cell_type": "code",
      "source": [
        "# Load data\n",
        "company=\"FB\"\n",
        "df['H-L'] = df['High'] - df['Low']  #the difference between hight and low value of stock in current day\n",
        "df['O-C'] = df['Open'] - df['Close'] # the difference between the open price and close price in current day\n",
        "# we calculate the simple moving avaragement (SMA)\n",
        "# the window size of each SMA , ma_1, ma_2 and ma_3\n",
        "ma_1 = 7\n",
        "ma_2 = 14\n",
        "ma_3 = 21\n",
        "# calculate the SMA of close price with window's size as ma_1, ma_2, ma_3\n",
        "\"\"\"\n",
        "we denote CP(n) = close price of n-th day\n",
        "    Fomular of SMA = (CP(1)+CP(2)+...+CP(n))/n; where n is window size\n",
        "\n",
        "    for example if we have data like\n",
        "    data  weight\n",
        "    1     12\n",
        "    2     23\n",
        "    3     40\n",
        "    then the simple moving averagement (SMA) with window =2\n",
        "     data  weight  SMA_2\n",
        "    1     12      NaN\n",
        "    2     23      17.5\n",
        "    3     40      31.5\n",
        "\n",
        "\"\"\"\n",
        "df[f'SMA_{ma_1}'] = df['Close'].rolling(window=ma_1).mean()\n",
        "df[f'SMA_{ma_2}'] = df['Close'].rolling(window=ma_2).mean()\n",
        "df[f'SMA_{ma_3}'] = df['Close'].rolling(window=ma_3).mean()\n",
        "print(df.tail())"
      ],
      "metadata": {
        "id": "T7zf298sdlvf",
        "colab": {
          "base_uri": "https://localhost:8080/"
        },
        "outputId": "dae6ce7c-8c96-45fb-fc40-3ad328f8bb6a"
      },
      "execution_count": 19,
      "outputs": [
        {
          "output_type": "stream",
          "name": "stdout",
          "text": [
            "          Date  Close    Volume   Open   High    Low   H-L   O-C      SMA_7  \\\n",
            "2513  7/8/2013  24.71  27043580  24.47  25.04  24.42  0.62 -0.24  25.758571   \n",
            "2514  7/5/2013  24.37  20202440  24.65  24.66  24.20  0.46  0.28  25.480000   \n",
            "2515  7/3/2013  24.52  10404330  24.22  24.71  24.15  0.56 -0.30  25.228571   \n",
            "2516  7/2/2013  24.41  18346010  24.70  24.77  24.30  0.47  0.29  25.014286   \n",
            "2517  7/1/2013  24.81  20539520  24.97  25.06  24.62  0.44  0.16  24.871429   \n",
            "\n",
            "         SMA_14     SMA_21      SD_7     SD_21  \n",
            "2513  26.576429  30.031905  0.546426  5.420503  \n",
            "2514  25.862857  29.326190  0.690555  5.125256  \n",
            "2515  25.720714  28.681905  0.670856  4.814781  \n",
            "2516  25.597857  28.059048  0.656325  4.450629  \n",
            "2517  25.509286  27.488095  0.555321  4.021619  \n",
            "Done Loading Data\n"
          ]
        }
      ]
    },
    {
      "cell_type": "markdown",
      "source": [
        "### Calculate the Standard Deviation(SD)"
      ],
      "metadata": {
        "id": "j9_L3hzk1nNc"
      }
    },
    {
      "cell_type": "code",
      "source": [
        "# calculate the Standard deviation (SD) of close column\n",
        "\"\"\"\n",
        "The fomular of standard deviation\n",
        "     + calculate varience\n",
        "        Var = (1/n) * Σ(xi - mean)^2\n",
        "     + Standard deviation = sqrt(Var)\n",
        "Example\n",
        "   Col1  Col2        SD\n",
        "0     1     6       NaN\n",
        "1     2     7       NaN\n",
        "2     3     8  1.000000\n",
        "3     4     9  1.000000\n",
        "4     5    10  1.000000\n",
        "\"\"\"\n",
        "df[f'SD_{ma_1}'] = df['Close'].rolling(window=ma_1).std()\n",
        "df[f'SD_{ma_3}'] = df['Close'].rolling(window=ma_3).std()\n",
        "# remove all the row with value \"Nan\" in df\n",
        "df.dropna(inplace=True)\n",
        "df.to_csv(f\"{company}.csv\")\n",
        "print(df.head())\n",
        "print(\"Done Loading Data\")"
      ],
      "metadata": {
        "colab": {
          "base_uri": "https://localhost:8080/"
        },
        "id": "s50Z166K1466",
        "outputId": "b529f46c-b39c-47a7-b873-45d31e1eebbb"
      },
      "execution_count": 20,
      "outputs": [
        {
          "output_type": "stream",
          "name": "stdout",
          "text": [
            "          Date   Close    Volume    Open    High     Low    H-L   O-C  \\\n",
            "280  5/18/2022  192.24  23959970  200.00  201.00  191.63   9.37  7.76   \n",
            "281  5/17/2022  202.62  24872730  202.12  205.46  198.36   7.10 -0.50   \n",
            "282  5/16/2022  200.04  27112600  197.05  205.37  195.93   9.44 -2.99   \n",
            "283  5/13/2022  198.62  24549840  192.58  199.89  191.28   8.61 -6.04   \n",
            "284  5/12/2022  191.24  38262230  187.06  198.05  184.78  13.27 -4.18   \n",
            "\n",
            "          SMA_7      SMA_14      SMA_21      SD_7      SD_21  \n",
            "280  190.005714  191.927857  185.781429  5.397379  12.015679  \n",
            "281  191.575714  192.425714  187.769524  7.234383  11.107398  \n",
            "282  193.891429  192.839286  189.230952  6.929744  10.568634  \n",
            "283  196.368571  193.399286  190.892381  4.252170   8.982786  \n",
            "284  195.655714  192.855000  192.177143  4.676387   6.595389  \n",
            "Done Loading Data\n"
          ]
        }
      ]
    },
    {
      "cell_type": "markdown",
      "source": [
        "## c) Processing Data\n"
      ],
      "metadata": {
        "id": "wZus4aI-u366"
      }
    },
    {
      "cell_type": "markdown",
      "source": [
        "### Convert data in range (0,1)"
      ],
      "metadata": {
        "id": "uLdys7gOINIP"
      }
    },
    {
      "cell_type": "code",
      "source": [
        "# create 2 object of MinMaxScaler class for standardlizing data in correct form\n",
        "scala_x = MinMaxScaler(feature_range=(0, 1))\n",
        "scala_y = MinMaxScaler(feature_range=(0, 1))\n",
        "# those below column will be reshape\n",
        "cols_x = ['H-L', 'O-C', f'SMA_{ma_1}', f'SMA_{ma_2}', f'SMA_{ma_3}', f'SD_{ma_1}', f'SD_{ma_3}']\n",
        "cols_y = ['Close']\n",
        "# convert data frame to 2-D array\n",
        "\"\"\"\n",
        "      in reshape function\n",
        "      -1 allow numpy automatically calculate a suitable row for array\n",
        "      len(cols_x) and len(col_y) is represented for number of column\n",
        "\"\"\"\n",
        "Array_X = df[cols_x].values.reshape(-1, len(cols_x))\n",
        "Array_Y = df[cols_y].values.reshape(-1, len(cols_y))\n",
        "print(Array_X)\n",
        "# convert value of Array_X and Array_Y to (0,1)\n",
        "\"\"\"\n",
        "        we have the convertion fomular\n",
        "              scaled_value = (value - min_value) / (max_value - min_value)\n",
        "        example : Array_X = [[1 2 3] [2 3 4]]\n",
        "          column 1 :  scaled_value = (1 - 1) / (2 - 1) = 0 / 1 = 0\n",
        "                      scaled_value = (2 - 1) / (2 - 1) = 1 / 1 = 1\n",
        "        then similar to column 2 and 3, we have the output of convert value of Array_X to interval (0,1) is\n",
        "        [[0. 0. 0.] [1. 1. 1.]]\n",
        "\n",
        "\"\"\"\n",
        "scaled_data_x = scala_x.fit_transform(Array_X)\n",
        "scaled_data_y = scala_y.fit_transform(Array_Y)\n",
        "print(scaled_data_x)"
      ],
      "metadata": {
        "colab": {
          "base_uri": "https://localhost:8080/"
        },
        "id": "jh0BczN18Xbf",
        "outputId": "fe1eebf9-a3c1-45ee-d6f1-937faac0ea20"
      },
      "execution_count": 29,
      "outputs": [
        {
          "output_type": "stream",
          "name": "stdout",
          "text": [
            "[[ 9.37000000e+00  7.76000000e+00  1.90005714e+02 ...  1.85781429e+02\n",
            "   5.39737855e+00  1.20156786e+01]\n",
            " [ 7.10000000e+00 -5.00000000e-01  1.91575714e+02 ...  1.87769524e+02\n",
            "   7.23438285e+00  1.11073982e+01]\n",
            " [ 9.44000000e+00 -2.99000000e+00  1.93891429e+02 ...  1.89230952e+02\n",
            "   6.92974369e+00  1.05686337e+01]\n",
            " ...\n",
            " [ 5.60000000e-01 -3.00000000e-01  2.52285714e+01 ...  2.86819048e+01\n",
            "   6.70855886e-01  4.81478101e+00]\n",
            " [ 4.70000000e-01  2.90000000e-01  2.50142857e+01 ...  2.80590476e+01\n",
            "   6.56324543e-01  4.45062906e+00]\n",
            " [ 4.40000000e-01  1.60000000e-01  2.48714286e+01 ...  2.74880952e+01\n",
            "   5.55320586e-01  4.02161860e+00]]\n",
            "[[4.15441176e-01 6.98737374e-01 4.66240199e-01 ... 4.58701595e-01\n",
            "  1.08480382e-01 2.59784430e-01]\n",
            " [3.11121324e-01 4.90151515e-01 4.70672937e-01 ... 4.64462687e-01\n",
            "  1.47137424e-01 2.38873836e-01]\n",
            " [4.18658088e-01 4.27272727e-01 4.77211126e-01 ... 4.68697607e-01\n",
            "  1.40726743e-01 2.26470304e-01]\n",
            " ...\n",
            " [1.05698529e-02 4.95202020e-01 1.00835727e-03 ... 3.45941500e-03\n",
            "  9.01769504e-03 9.40040763e-02]\n",
            " [6.43382353e-03 5.10101010e-01 4.03342906e-04 ... 1.65450283e-03\n",
            "  8.71190439e-03 8.56205049e-02]\n",
            " [5.05514706e-03 5.06818182e-01 0.00000000e+00 ... 0.00000000e+00\n",
            "  6.58642532e-03 7.57437493e-02]]\n"
          ]
        }
      ]
    },
    {
      "cell_type": "markdown",
      "source": [
        "### Devide data"
      ],
      "metadata": {
        "id": "-nomQPrIIbc-"
      }
    },
    {
      "cell_type": "code",
      "source": [
        "pre_day = 30 # size of array's element in element of x_total\n",
        "test_size=365 # size of testing data\n",
        "x_total = []\n",
        "y_total = []\n",
        "for i in range(pre_day, len(df)):\n",
        "    x_total.append(scaled_data_x[i-pre_day:i])\n",
        "    y_total.append(scaled_data_y[i])\n",
        "# divide x_total in y_total into training and testing data\n",
        "x_train = np.array(x_total[:len(x_total)-test_size])\n",
        "x_test = np.array(x_total[len(x_total)-test_size:])\n",
        "y_train = np.array(y_total[:len(y_total)-test_size])\n",
        "y_test = np.array(y_total[len(y_total)-test_size:])"
      ],
      "metadata": {
        "id": "aNuR8TqTIleS"
      },
      "execution_count": 32,
      "outputs": []
    },
    {
      "cell_type": "markdown",
      "source": [
        "\n",
        "# 3.  3.Building and Training Model\n",
        "\n",
        "\n"
      ],
      "metadata": {
        "id": "ZtOmhpdhKtdP"
      }
    },
    {
      "cell_type": "code",
      "source": [
        "# Create the sequential neural network model\n",
        "\"\"\"\n",
        "    we initialize a sequential model using Sequential()\n",
        "    Then we add new layer to this sequential\n",
        "\"\"\"\n",
        "model = Sequential()\n",
        "# add LSTM to new layer\n",
        "\"\"\"\n",
        "      units=60: This parameter specifies the number of LSTM units or memory cells in the layer.\n",
        "      return the entire sequence of outputs or just the last output\n",
        "\"\"\"\n",
        "model.add(LSTM(units=60, return_sequences=True, input_shape=(x_train.shape[1], x_train.shape[2])))\n",
        "# add dropout(0.2) to prevent overfitting\n",
        "model.add(Dropout(0.2))\n",
        "\n",
        "\"\"\"\n",
        "    we add multi-layer to this model because it will help\n",
        "       + Increased model capacity: Each layer in a neural network adds more parameters and learning capacity,\n",
        "                              allowing the model to capture and represent more complex patterns in the data.\n",
        "       + Improved model generalization : the model becomes less prone to overfitting.\n",
        "                                         Deep networks with multiple layers and appropriate regularization techniques,\n",
        "                                         such as Dropout, can prevent the model from memorizing noise or irrelevant details in the training data.\n",
        "\"\"\"\n",
        "model.add(LSTM(units=60, return_sequences=True))\n",
        "model.add(Dropout(0.2))\n",
        "model.add(LSTM(units=60, return_sequences=True))\n",
        "model.add(Dropout(0.2))\n",
        "model.add(LSTM(units=60, return_sequences=True))\n",
        "model.add(Dropout(0.2))\n",
        "model.add(LSTM(units=60))\n",
        "model.add(Dropout(0.2))\n",
        "model.add(Dense(units=len(cols_y)))\n",
        "\n",
        "# use mean_squared_error function to minimize the squared differences between predicted and actual values.\n",
        "model.compile(optimizer='adam', loss='mean_squared_error')\n",
        "\"\"\"\n",
        "      epochs is the number of time that model has been train base on entity dataset\n",
        "      steps_per_epoch is the number of time that model has been train in each epochs\n",
        "\"\"\"\n",
        "model.fit(x_train, y_train, epochs=120, steps_per_epoch=40, use_multiprocessing=True)\n",
        "# save model to reducing the next time of executing prediction\n",
        "model.save(f\"{company}.h5\")\n",
        "print(\"Done Training Model\")"
      ],
      "metadata": {
        "colab": {
          "base_uri": "https://localhost:8080/"
        },
        "id": "6sWv6l-ZK422",
        "outputId": "e5bc6129-d0fb-4b81-c987-2c2fb55ad9bc"
      },
      "execution_count": 37,
      "outputs": [
        {
          "output_type": "stream",
          "name": "stdout",
          "text": [
            "Epoch 1/120\n",
            "40/40 [==============================] - 56s 80ms/step - loss: 0.0289\n",
            "Epoch 2/120\n",
            "40/40 [==============================] - 4s 100ms/step - loss: 0.0052\n",
            "Epoch 3/120\n",
            "40/40 [==============================] - 3s 70ms/step - loss: 0.0049\n",
            "Epoch 4/120\n",
            "40/40 [==============================] - 3s 69ms/step - loss: 0.0045\n",
            "Epoch 5/120\n",
            "40/40 [==============================] - 3s 75ms/step - loss: 0.0042\n",
            "Epoch 6/120\n",
            "40/40 [==============================] - 3s 85ms/step - loss: 0.0036\n",
            "Epoch 7/120\n",
            "40/40 [==============================] - 3s 70ms/step - loss: 0.0039\n",
            "Epoch 8/120\n",
            "40/40 [==============================] - 3s 70ms/step - loss: 0.0034\n",
            "Epoch 9/120\n",
            "40/40 [==============================] - 3s 71ms/step - loss: 0.0034\n",
            "Epoch 10/120\n",
            "40/40 [==============================] - 4s 104ms/step - loss: 0.0031\n",
            "Epoch 11/120\n",
            "40/40 [==============================] - 3s 82ms/step - loss: 0.0038\n",
            "Epoch 12/120\n",
            "40/40 [==============================] - 3s 69ms/step - loss: 0.0031\n",
            "Epoch 13/120\n",
            "40/40 [==============================] - 4s 96ms/step - loss: 0.0029\n",
            "Epoch 14/120\n",
            "40/40 [==============================] - 3s 85ms/step - loss: 0.0028\n",
            "Epoch 15/120\n",
            "40/40 [==============================] - 3s 71ms/step - loss: 0.0028\n",
            "Epoch 16/120\n",
            "40/40 [==============================] - 3s 70ms/step - loss: 0.0027\n",
            "Epoch 17/120\n",
            "40/40 [==============================] - 3s 69ms/step - loss: 0.0027\n",
            "Epoch 18/120\n",
            "40/40 [==============================] - 4s 92ms/step - loss: 0.0025\n",
            "Epoch 19/120\n",
            "40/40 [==============================] - 3s 70ms/step - loss: 0.0026\n",
            "Epoch 20/120\n",
            "40/40 [==============================] - 3s 70ms/step - loss: 0.0024\n",
            "Epoch 21/120\n",
            "40/40 [==============================] - 3s 70ms/step - loss: 0.0024\n",
            "Epoch 22/120\n",
            "40/40 [==============================] - 4s 93ms/step - loss: 0.0025\n",
            "Epoch 23/120\n",
            "40/40 [==============================] - 3s 70ms/step - loss: 0.0023\n",
            "Epoch 24/120\n",
            "40/40 [==============================] - 3s 70ms/step - loss: 0.0023\n",
            "Epoch 25/120\n",
            "40/40 [==============================] - 3s 70ms/step - loss: 0.0022\n",
            "Epoch 26/120\n",
            "40/40 [==============================] - 3s 84ms/step - loss: 0.0022\n",
            "Epoch 27/120\n",
            "40/40 [==============================] - 3s 76ms/step - loss: 0.0022\n",
            "Epoch 28/120\n",
            "40/40 [==============================] - 3s 69ms/step - loss: 0.0023\n",
            "Epoch 29/120\n",
            "40/40 [==============================] - 3s 71ms/step - loss: 0.0024\n",
            "Epoch 30/120\n",
            "40/40 [==============================] - 3s 76ms/step - loss: 0.0023\n",
            "Epoch 31/120\n",
            "40/40 [==============================] - 3s 87ms/step - loss: 0.0020\n",
            "Epoch 32/120\n",
            "40/40 [==============================] - 3s 71ms/step - loss: 0.0020\n",
            "Epoch 33/120\n",
            "40/40 [==============================] - 3s 70ms/step - loss: 0.0019\n",
            "Epoch 34/120\n",
            "40/40 [==============================] - 3s 70ms/step - loss: 0.0019\n",
            "Epoch 35/120\n",
            "40/40 [==============================] - 4s 93ms/step - loss: 0.0018\n",
            "Epoch 36/120\n",
            "40/40 [==============================] - 3s 70ms/step - loss: 0.0017\n",
            "Epoch 37/120\n",
            "40/40 [==============================] - 3s 70ms/step - loss: 0.0018\n",
            "Epoch 38/120\n",
            "40/40 [==============================] - 3s 71ms/step - loss: 0.0017\n",
            "Epoch 39/120\n",
            "40/40 [==============================] - 4s 93ms/step - loss: 0.0023\n",
            "Epoch 40/120\n",
            "40/40 [==============================] - 3s 70ms/step - loss: 0.0021\n",
            "Epoch 41/120\n",
            "40/40 [==============================] - 3s 77ms/step - loss: 0.0017\n",
            "Epoch 42/120\n",
            "40/40 [==============================] - 3s 71ms/step - loss: 0.0018\n",
            "Epoch 43/120\n",
            "40/40 [==============================] - 4s 92ms/step - loss: 0.0015\n",
            "Epoch 44/120\n",
            "40/40 [==============================] - 3s 73ms/step - loss: 0.0017\n",
            "Epoch 45/120\n",
            "40/40 [==============================] - 3s 71ms/step - loss: 0.0016\n",
            "Epoch 46/120\n",
            "40/40 [==============================] - 3s 70ms/step - loss: 0.0015\n",
            "Epoch 47/120\n",
            "40/40 [==============================] - 3s 84ms/step - loss: 0.0018\n",
            "Epoch 48/120\n",
            "40/40 [==============================] - 3s 79ms/step - loss: 0.0015\n",
            "Epoch 49/120\n",
            "40/40 [==============================] - 3s 70ms/step - loss: 0.0016\n",
            "Epoch 50/120\n",
            "40/40 [==============================] - 3s 71ms/step - loss: 0.0016\n",
            "Epoch 51/120\n",
            "40/40 [==============================] - 3s 76ms/step - loss: 0.0017\n",
            "Epoch 52/120\n",
            "40/40 [==============================] - 4s 88ms/step - loss: 0.0017\n",
            "Epoch 53/120\n",
            "40/40 [==============================] - 3s 70ms/step - loss: 0.0015\n",
            "Epoch 54/120\n",
            "40/40 [==============================] - 3s 71ms/step - loss: 0.0014\n",
            "Epoch 55/120\n",
            "40/40 [==============================] - 3s 70ms/step - loss: 0.0013\n",
            "Epoch 56/120\n",
            "40/40 [==============================] - 4s 109ms/step - loss: 0.0014\n",
            "Epoch 57/120\n",
            "40/40 [==============================] - 4s 109ms/step - loss: 0.0014\n",
            "Epoch 58/120\n",
            "40/40 [==============================] - 4s 94ms/step - loss: 0.0014\n",
            "Epoch 59/120\n",
            "40/40 [==============================] - 5s 129ms/step - loss: 0.0015\n",
            "Epoch 60/120\n",
            "40/40 [==============================] - 4s 99ms/step - loss: 0.0014\n",
            "Epoch 61/120\n",
            "40/40 [==============================] - 3s 85ms/step - loss: 0.0014\n",
            "Epoch 62/120\n",
            "40/40 [==============================] - 4s 103ms/step - loss: 0.0014\n",
            "Epoch 63/120\n",
            "40/40 [==============================] - 4s 90ms/step - loss: 0.0013\n",
            "Epoch 64/120\n",
            "40/40 [==============================] - 3s 88ms/step - loss: 0.0015\n",
            "Epoch 65/120\n",
            "40/40 [==============================] - 4s 109ms/step - loss: 0.0013\n",
            "Epoch 66/120\n",
            "40/40 [==============================] - 4s 110ms/step - loss: 0.0013\n",
            "Epoch 67/120\n",
            "40/40 [==============================] - 4s 105ms/step - loss: 0.0013\n",
            "Epoch 68/120\n",
            "40/40 [==============================] - 3s 86ms/step - loss: 0.0013\n",
            "Epoch 69/120\n",
            "40/40 [==============================] - 4s 89ms/step - loss: 0.0012\n",
            "Epoch 70/120\n",
            "40/40 [==============================] - 3s 71ms/step - loss: 0.0012\n",
            "Epoch 71/120\n",
            "40/40 [==============================] - 3s 70ms/step - loss: 0.0013\n",
            "Epoch 72/120\n",
            "40/40 [==============================] - 3s 70ms/step - loss: 0.0012\n",
            "Epoch 73/120\n",
            "40/40 [==============================] - 4s 93ms/step - loss: 0.0012\n",
            "Epoch 74/120\n",
            "40/40 [==============================] - 3s 70ms/step - loss: 0.0011\n",
            "Epoch 75/120\n",
            "40/40 [==============================] - 3s 71ms/step - loss: 0.0011\n",
            "Epoch 76/120\n",
            "40/40 [==============================] - 3s 71ms/step - loss: 0.0011\n",
            "Epoch 77/120\n",
            "40/40 [==============================] - 4s 94ms/step - loss: 0.0011\n",
            "Epoch 78/120\n",
            "40/40 [==============================] - 3s 72ms/step - loss: 0.0012\n",
            "Epoch 79/120\n",
            "40/40 [==============================] - 3s 71ms/step - loss: 9.9099e-04\n",
            "Epoch 80/120\n",
            "40/40 [==============================] - 3s 70ms/step - loss: 0.0010\n",
            "Epoch 81/120\n",
            "40/40 [==============================] - 3s 86ms/step - loss: 0.0011\n",
            "Epoch 82/120\n",
            "40/40 [==============================] - 3s 77ms/step - loss: 0.0012\n",
            "Epoch 83/120\n",
            "40/40 [==============================] - 3s 70ms/step - loss: 0.0011\n",
            "Epoch 84/120\n",
            "40/40 [==============================] - 3s 70ms/step - loss: 0.0010\n",
            "Epoch 85/120\n",
            "40/40 [==============================] - 3s 79ms/step - loss: 0.0012\n",
            "Epoch 86/120\n",
            "40/40 [==============================] - 3s 84ms/step - loss: 0.0011\n",
            "Epoch 87/120\n",
            "40/40 [==============================] - 3s 70ms/step - loss: 9.2886e-04\n",
            "Epoch 88/120\n",
            "40/40 [==============================] - 3s 70ms/step - loss: 9.4406e-04\n",
            "Epoch 89/120\n",
            "40/40 [==============================] - 3s 72ms/step - loss: 9.2088e-04\n",
            "Epoch 90/120\n",
            "40/40 [==============================] - 4s 92ms/step - loss: 9.7682e-04\n",
            "Epoch 91/120\n",
            "40/40 [==============================] - 3s 71ms/step - loss: 0.0010\n",
            "Epoch 92/120\n",
            "40/40 [==============================] - 3s 71ms/step - loss: 9.4891e-04\n",
            "Epoch 93/120\n",
            "40/40 [==============================] - 3s 69ms/step - loss: 0.0010\n",
            "Epoch 94/120\n",
            "40/40 [==============================] - 4s 94ms/step - loss: 9.4221e-04\n",
            "Epoch 95/120\n",
            "40/40 [==============================] - 3s 70ms/step - loss: 9.5124e-04\n",
            "Epoch 96/120\n",
            "40/40 [==============================] - 3s 71ms/step - loss: 8.8697e-04\n",
            "Epoch 97/120\n",
            "40/40 [==============================] - 3s 70ms/step - loss: 9.6227e-04\n",
            "Epoch 98/120\n",
            "40/40 [==============================] - 4s 105ms/step - loss: 9.3336e-04\n",
            "Epoch 99/120\n",
            "40/40 [==============================] - 3s 85ms/step - loss: 9.5340e-04\n",
            "Epoch 100/120\n",
            "40/40 [==============================] - 3s 70ms/step - loss: 8.7162e-04\n",
            "Epoch 101/120\n",
            "40/40 [==============================] - 3s 71ms/step - loss: 8.9177e-04\n",
            "Epoch 102/120\n",
            "40/40 [==============================] - 4s 94ms/step - loss: 0.0012\n",
            "Epoch 103/120\n",
            "40/40 [==============================] - 3s 71ms/step - loss: 9.8621e-04\n",
            "Epoch 104/120\n",
            "40/40 [==============================] - 3s 71ms/step - loss: 8.9567e-04\n",
            "Epoch 105/120\n",
            "40/40 [==============================] - 3s 71ms/step - loss: 8.4813e-04\n",
            "Epoch 106/120\n",
            "40/40 [==============================] - 4s 88ms/step - loss: 8.2103e-04\n",
            "Epoch 107/120\n",
            "40/40 [==============================] - 3s 76ms/step - loss: 8.7458e-04\n",
            "Epoch 108/120\n",
            "40/40 [==============================] - 3s 70ms/step - loss: 9.6123e-04\n",
            "Epoch 109/120\n",
            "40/40 [==============================] - 3s 73ms/step - loss: 8.8405e-04\n",
            "Epoch 110/120\n",
            "40/40 [==============================] - 3s 81ms/step - loss: 9.9716e-04\n",
            "Epoch 111/120\n",
            "40/40 [==============================] - 3s 81ms/step - loss: 8.9233e-04\n",
            "Epoch 112/120\n",
            "40/40 [==============================] - 3s 71ms/step - loss: 8.1623e-04\n",
            "Epoch 113/120\n",
            "40/40 [==============================] - 3s 72ms/step - loss: 7.8710e-04\n",
            "Epoch 114/120\n",
            "40/40 [==============================] - 3s 76ms/step - loss: 7.9724e-04\n",
            "Epoch 115/120\n",
            "40/40 [==============================] - 4s 88ms/step - loss: 8.5711e-04\n",
            "Epoch 116/120\n",
            "40/40 [==============================] - 3s 72ms/step - loss: 8.1004e-04\n",
            "Epoch 117/120\n",
            "40/40 [==============================] - 4s 91ms/step - loss: 9.8899e-04\n",
            "Epoch 118/120\n",
            "40/40 [==============================] - 3s 77ms/step - loss: 7.4963e-04\n",
            "Epoch 119/120\n",
            "40/40 [==============================] - 3s 86ms/step - loss: 8.3383e-04\n",
            "Epoch 120/120\n",
            "40/40 [==============================] - 3s 71ms/step - loss: 7.9778e-04\n",
            "Done Training Model\n"
          ]
        }
      ]
    },
    {
      "cell_type": "markdown",
      "source": [
        "# Testing"
      ],
      "metadata": {
        "id": "Urz94AiB_bDG"
      }
    },
    {
      "cell_type": "code",
      "source": [
        "# Testing\n",
        "predict_prices = model.predict(x_test)\n",
        "predict_prices = scala_y.inverse_transform(predict_prices)\n",
        "\n",
        "# Ploting the Stat\n",
        "real_price = df[len(df)-test_size:]['Close'].values.reshape(-1, 1)\n",
        "real_price = np.array(real_price)\n",
        "real_price = real_price.reshape(real_price.shape[0], 1)\n",
        "\n",
        "\n",
        "plt.plot(real_price, color=\"red\", label=f\"Real {company} Prices\")\n",
        "plt.plot(predict_prices, color=\"blue\", label=f\"Predicted {company} Prices\")\n",
        "plt.title(f\"{company} Prices\")\n",
        "plt.xlabel(\"Time\")\n",
        "plt.ylabel(\"Stock Prices\")\n",
        "plt.ylim(bottom=0)\n",
        "plt.legend()\n",
        "plt.show()\n"
      ],
      "metadata": {
        "colab": {
          "base_uri": "https://localhost:8080/",
          "height": 489
        },
        "id": "dnVSr_Ji_hFn",
        "outputId": "05477d15-b47b-45e4-d0dc-d3ba659b0630"
      },
      "execution_count": 38,
      "outputs": [
        {
          "output_type": "stream",
          "name": "stdout",
          "text": [
            "12/12 [==============================] - 1s 15ms/step\n"
          ]
        },
        {
          "output_type": "display_data",
          "data": {
            "text/plain": [
              "<Figure size 640x480 with 1 Axes>"
            ],
            "image/png": "[encoded data removed]"
          },
          "metadata": {}
        }
      ]
    }
  ]
}